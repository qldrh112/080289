{
 "cells": [
  {
   "cell_type": "code",
   "execution_count": 1,
   "metadata": {},
   "outputs": [],
   "source": [
    "# 라이브러리 호출\n",
    "import pandas as pd\n",
    "import torch\n",
    "import torch.nn as nn\n",
    "from torch.utils.data import Dataset, DataLoader\n",
    "from sklearn.model_selection import train_test_split\n",
    "from sklearn.preprocessing import StandardScaler, MinMaxScaler\n",
    "\n",
    "device = torch.device('cuda' if torch.cuda.is_available() else 'cpu')"
   ]
  },
  {
   "cell_type": "code",
   "execution_count": 7,
   "metadata": {},
   "outputs": [],
   "source": [
    "# 데이터셋 경로 지정 및 훈련과 테스트 용도로 분리\n",
    "df = pd.read_csv('../data/diabetes.csv')\n",
    "X = df[df.columns[:-1]]\n",
    "y = df['Outcome']\n",
    "\n",
    "X = X.values\n",
    "y = torch.tensor(y.values)\n",
    "X_train, X_test, y_train, y_test = train_test_split(X, y, test_size=0.33)"
   ]
  },
  {
   "cell_type": "code",
   "execution_count": 8,
   "metadata": {},
   "outputs": [],
   "source": [
    "# 훈련과 테스트용 데이터를 정규화\n",
    "ms = MinMaxScaler()\n",
    "ss = StandardScaler()\n",
    "\n",
    "X_train = ss.fit_transform(X_train)\n",
    "X_test = ss.fit_transform(X_test)\n",
    "# (?, 1) 형태를 갖도록 변경, 열의 수만 1로 설정\n",
    "y_train = y_train.reshape(-1, 1)\n",
    "y_test = y_test.reshape(-1, 1)\n",
    "y_train = ms.fit_transform(y_train)\n",
    "y_test = ms.fit_transform(y_test)"
   ]
  },
  {
   "cell_type": "code",
   "execution_count": 9,
   "metadata": {},
   "outputs": [],
   "source": [
    "# 커스텀 데이터셋 생성\n",
    "class customdataset(Dataset):\n",
    "\n",
    "    def __init__(self, X, y):\n",
    "        self.X = X\n",
    "        self.y = y\n",
    "        self.len = len(self.X)\n",
    "    \n",
    "    def __getitem__(self, index):\n",
    "        return self.X[index], self.y[index]\n",
    "    \n",
    "    def __len__(self):\n",
    "        return self.len"
   ]
  },
  {
   "cell_type": "code",
   "execution_count": 10,
   "metadata": {},
   "outputs": [],
   "source": [
    "# 데이터로더에 데이터 담기\n",
    "train_data = customdataset(torch.FloatTensor(X_train),\n",
    "                           torch.FloatTensor(y_train))\n",
    "test_data = customdataset(torch.FloatTensor(X_test),\n",
    "                          torch.FloatTensor(y_test))\n",
    "\n",
    "train_loader = DataLoader(dataset=train_data, batch_size=64, shuffle=True)\n",
    "test_loader = DataLoader(dataset=test_data, batch_size=64, shuffle=True)"
   ]
  },
  {
   "cell_type": "code",
   "execution_count": 13,
   "metadata": {},
   "outputs": [],
   "source": [
    "# 네트워크 생성\n",
    "class binaryClassification(nn.Module):\n",
    "\n",
    "    def __init__(self):\n",
    "        super(binaryClassification, self).__init__()\n",
    "        # 칼럼이 8개이므로 입력 크기는 8을 사용\n",
    "        self.layer_1 = nn.Linear(8, 64, bias=True)\n",
    "        self.layer_2 = nn.Linear(64, 64, bias=True)\n",
    "        # 출력으로 당뇨인지 아닌지 나타내는 0과 1의 값만 가지므로\n",
    "        self.layer_out = nn.Linear(64, 1, bias=True)\n",
    "        self.relu = nn.ReLU()\n",
    "        self.dropout = nn.Dropout(p=0.1)\n",
    "        self.batchnorm1 =nn.BatchNorm1d(64)\n",
    "        self.batchnorm2 = nn.BatchNorm1d(64)\n",
    "\n",
    "    def forward(self, inputs):\n",
    "        x = self.relu(self.layer_1(inputs))\n",
    "        x = self.batchnorm1(x)\n",
    "        x = self.relu(self.layer_2(x))\n",
    "        x = self.batchnorm2(x)\n",
    "        x = self.dropout(x)\n",
    "        x = self.layer_out(x)\n",
    "        return x"
   ]
  },
  {
   "cell_type": "code",
   "execution_count": 14,
   "metadata": {},
   "outputs": [
    {
     "name": "stdout",
     "output_type": "stream",
     "text": [
      "binaryClassification(\n",
      "  (layer_1): Linear(in_features=8, out_features=64, bias=True)\n",
      "  (layer_2): Linear(in_features=64, out_features=64, bias=True)\n",
      "  (layer_out): Linear(in_features=64, out_features=1, bias=True)\n",
      "  (relu): ReLU()\n",
      "  (dropout): Dropout(p=0.1, inplace=False)\n",
      "  (batchnorm1): BatchNorm1d(64, eps=1e-05, momentum=0.1, affine=True, track_running_stats=True)\n",
      "  (batchnorm2): BatchNorm1d(64, eps=1e-05, momentum=0.1, affine=True, track_running_stats=True)\n",
      ")\n"
     ]
    }
   ],
   "source": [
    "# 손실 함수와 옵티마이저 지정\n",
    "epochs = 1000 + 1\n",
    "print_epoch = 100\n",
    "LEARNING_RATE = 1e-2\n",
    "\n",
    "model = binaryClassification()\n",
    "model.to(device)\n",
    "print(model)\n",
    "BCE = nn.BCEWithLogitsLoss()\n",
    "# 훈련 데이터셋에서 무작위로 샘플을 추출하고, 그 샘플만 이용해서 기울기를 계산\n",
    "optimizer = torch.optim.SGD(model.parameters(), lr=LEARNING_RATE)"
   ]
  },
  {
   "cell_type": "code",
   "execution_count": 15,
   "metadata": {},
   "outputs": [],
   "source": [
    "# 모델 성능 측정 함수 정의\n",
    "def accuracy(y_pred, y_test):\n",
    "    y_pred_tag = torch.round(torch.sigmoid(y_pred))\n",
    "    correct_results_sum = (y_pred_tag == y_test).sum().float()\n",
    "    acc = correct_results_sum / y_test.shape[0]\n",
    "    acc = torch.round(acc * 100)\n",
    "    return acc"
   ]
  },
  {
   "cell_type": "code",
   "execution_count": 19,
   "metadata": {},
   "outputs": [
    {
     "name": "stdout",
     "output_type": "stream",
     "text": [
      "Train: epoch: 0 - loss: 0.66859; acc: 57.889\n",
      "Test: epoch: 0 - loss: 0.67716; acc: 64.250\n",
      "Train: epoch: 100 - loss: 0.41365; acc: 78.778\n",
      "Test: epoch: 100 - loss: 0.53216; acc: 71.500\n",
      "Train: epoch: 200 - loss: 0.43595; acc: 80.333\n",
      "Test: epoch: 200 - loss: 0.68617; acc: 70.750\n",
      "Train: epoch: 300 - loss: 0.36866; acc: 79.444\n",
      "Test: epoch: 300 - loss: 0.56508; acc: 71.750\n",
      "Train: epoch: 400 - loss: 0.32479; acc: 85.667\n",
      "Test: epoch: 400 - loss: 0.54916; acc: 74.250\n",
      "Train: epoch: 500 - loss: 0.45732; acc: 79.444\n",
      "Test: epoch: 500 - loss: 0.64285; acc: 72.500\n",
      "Train: epoch: 600 - loss: 0.38556; acc: 78.333\n",
      "Test: epoch: 600 - loss: 0.55614; acc: 73.250\n",
      "Train: epoch: 700 - loss: 0.53735; acc: 78.444\n",
      "Test: epoch: 700 - loss: 0.55406; acc: 75.250\n",
      "Train: epoch: 800 - loss: 0.42161; acc: 79.556\n",
      "Test: epoch: 800 - loss: 0.64017; acc: 70.500\n",
      "Train: epoch: 900 - loss: 0.37645; acc: 85.333\n",
      "Test: epoch: 900 - loss: 0.53254; acc: 73.000\n",
      "Train: epoch: 1000 - loss: 0.34568; acc: 84.111\n",
      "Test: epoch: 1000 - loss: 0.56633; acc: 70.250\n"
     ]
    }
   ],
   "source": [
    "for epoch in range(epochs):\n",
    "    iteration_loss = 0.\n",
    "    iteration_accuracy = 0.\n",
    "\n",
    "    model.train()\n",
    "    # 데이터로더에서 훈련 데이터셋을 배치 크기만큼 불러옵니다.\n",
    "    for i, data in enumerate(train_loader):\n",
    "        X, y = data\n",
    "        X, y = X.to(device), y.to(device)\n",
    "        y_pred = model(X.float()).to(device)\n",
    "        # 모델에 적용하여 훈련 시킨 결과와 정답을 손실 함수에 적용\n",
    "        loss = BCE(y_pred, y.reshape(-1, 1).float())\n",
    "        iteration_loss += loss\n",
    "        iteration_accuracy += accuracy(y_pred, y)\n",
    "        optimizer.zero_grad()\n",
    "        loss.backward()\n",
    "        optimizer.step()\n",
    "    \n",
    "    if (epoch % print_epoch == 0):\n",
    "        print(f'Train: epoch: {epoch} - loss: {iteration_loss/(i+1):.5f}; acc: {iteration_accuracy/(i+1):.3f}')\n",
    "    \n",
    "    iteration_loss = 0.\n",
    "    iteration_accuracy = 0.\n",
    "    model.eval()\n",
    "    for i, data in enumerate(test_loader):\n",
    "        X, y = data\n",
    "        X, y = X.to(device), y.to(device)\n",
    "        y_pred = model(X.float()).to(device)\n",
    "        loss = BCE(y_pred, y.reshape(-1, 1).float())\n",
    "        iteration_loss += loss\n",
    "        iteration_accuracy += accuracy(y_pred, y)\n",
    "    if (epoch % print_epoch == 0):\n",
    "        print(f'Test: epoch: {epoch} - loss: {iteration_loss/(i+1):.5f}; acc: {iteration_accuracy/(i+1):.3f}')\n"
   ]
  }
 ],
 "metadata": {
  "kernelspec": {
   "display_name": "torch_book",
   "language": "python",
   "name": "python3"
  },
  "language_info": {
   "codemirror_mode": {
    "name": "ipython",
    "version": 3
   },
   "file_extension": ".py",
   "mimetype": "text/x-python",
   "name": "python",
   "nbconvert_exporter": "python",
   "pygments_lexer": "ipython3",
   "version": "3.9.19"
  }
 },
 "nbformat": 4,
 "nbformat_minor": 2
}
